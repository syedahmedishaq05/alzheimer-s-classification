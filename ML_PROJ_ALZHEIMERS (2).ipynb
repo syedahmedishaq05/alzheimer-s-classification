{
  "cells": [
    {
      "cell_type": "markdown",
      "source": [
        "<div style=\"text-align: center;\">\n",
        "    <h1>Machine Learning Project</h1>\n",
        "    <h2>Alzheimer Disease Classification</h2>\n",
        "    \n"
      ],
      "metadata": {
        "id": "TL7egrdwR90Y"
      },
      "id": "TL7egrdwR90Y"
    },
    {
      "cell_type": "code",
      "execution_count": 10,
      "id": "d676ec09-4825-44e0-a03e-1da2e44ac77d",
      "metadata": {
        "id": "d676ec09-4825-44e0-a03e-1da2e44ac77d"
      },
      "outputs": [],
      "source": [
        "import pandas as pd\n",
        "import numpy as np\n",
        "import matplotlib.pyplot as plt\n",
        "import seaborn as sns\n",
        "from sklearn.model_selection import train_test_split, GridSearchCV\n",
        "from sklearn.feature_selection import mutual_info_classif\n",
        "from sklearn.preprocessing import StandardScaler\n",
        "from sklearn.decomposition import PCA\n",
        "from sklearn.svm import SVC\n",
        "from sklearn.metrics import accuracy_score, classification_report\n",
        "from sklearn.ensemble import RandomForestRegressor\n",
        "from imblearn.over_sampling import SMOTE\n",
        "from boruta import BorutaPy\n",
        "import warnings"
      ]
    },
    {
      "cell_type": "code",
      "source": [],
      "metadata": {
        "id": "a0EujtvyqmO3"
      },
      "id": "a0EujtvyqmO3",
      "execution_count": 10,
      "outputs": []
    },
    {
      "cell_type": "code",
      "source": [
        "pip install boruta"
      ],
      "metadata": {
        "colab": {
          "base_uri": "https://localhost:8080/"
        },
        "id": "UHGmtfSSkHSd",
        "outputId": "2ea98c8e-e286-456d-93fc-d96437ec278c"
      },
      "id": "UHGmtfSSkHSd",
      "execution_count": 11,
      "outputs": [
        {
          "output_type": "stream",
          "name": "stdout",
          "text": [
            "Requirement already satisfied: boruta in /usr/local/lib/python3.11/dist-packages (0.4.3)\n",
            "Requirement already satisfied: numpy>=1.10.4 in /usr/local/lib/python3.11/dist-packages (from boruta) (2.0.2)\n",
            "Requirement already satisfied: scikit-learn>=0.17.1 in /usr/local/lib/python3.11/dist-packages (from boruta) (1.6.1)\n",
            "Requirement already satisfied: scipy>=0.17.0 in /usr/local/lib/python3.11/dist-packages (from boruta) (1.15.2)\n",
            "Requirement already satisfied: joblib>=1.2.0 in /usr/local/lib/python3.11/dist-packages (from scikit-learn>=0.17.1->boruta) (1.4.2)\n",
            "Requirement already satisfied: threadpoolctl>=3.1.0 in /usr/local/lib/python3.11/dist-packages (from scikit-learn>=0.17.1->boruta) (3.6.0)\n"
          ]
        }
      ]
    },
    {
      "cell_type": "code",
      "execution_count": 12,
      "id": "88462330-a3ac-4c52-8388-164388a86204",
      "metadata": {
        "id": "88462330-a3ac-4c52-8388-164388a86204"
      },
      "outputs": [],
      "source": [
        "%matplotlib inline\n",
        "plt.style.use('dark_background')\n",
        "warnings.filterwarnings('ignore')"
      ]
    },
    {
      "cell_type": "code",
      "execution_count": null,
      "id": "6afe709c-87f7-40b2-a35e-f3b5db2b5b37",
      "metadata": {
        "id": "6afe709c-87f7-40b2-a35e-f3b5db2b5b37"
      },
      "outputs": [],
      "source": [
        "df = pd.read_csv(r\"alzheimers_disease_data.csv\")"
      ]
    },
    {
      "cell_type": "code",
      "execution_count": null,
      "id": "5062392f-ed20-4785-8c8a-9bf3eb276a2d",
      "metadata": {
        "id": "5062392f-ed20-4785-8c8a-9bf3eb276a2d"
      },
      "outputs": [],
      "source": [
        "df.columns"
      ]
    },
    {
      "cell_type": "code",
      "execution_count": null,
      "id": "8e95084b-b544-4435-aff6-cda71c3487de",
      "metadata": {
        "id": "8e95084b-b544-4435-aff6-cda71c3487de"
      },
      "outputs": [],
      "source": [
        "df.head()"
      ]
    },
    {
      "cell_type": "code",
      "execution_count": null,
      "id": "8d57b151-1f54-401c-a96c-9678053d1ec0",
      "metadata": {
        "id": "8d57b151-1f54-401c-a96c-9678053d1ec0"
      },
      "outputs": [],
      "source": [
        "df.info()"
      ]
    },
    {
      "cell_type": "code",
      "execution_count": null,
      "id": "ee7e52c9-b66a-473c-9a1e-0bb919fe7543",
      "metadata": {
        "id": "ee7e52c9-b66a-473c-9a1e-0bb919fe7543"
      },
      "outputs": [],
      "source": [
        "df.describe().T"
      ]
    },
    {
      "cell_type": "code",
      "execution_count": null,
      "id": "37865b1e-ee6b-4d1b-b814-5c1484145efc",
      "metadata": {
        "id": "37865b1e-ee6b-4d1b-b814-5c1484145efc"
      },
      "outputs": [],
      "source": [
        "df.drop(columns=['PatientID', 'DoctorInCharge'], inplace=True)"
      ]
    },
    {
      "cell_type": "code",
      "execution_count": null,
      "id": "8c14e88f-59d6-44aa-81e7-bf63d47a0f62",
      "metadata": {
        "id": "8c14e88f-59d6-44aa-81e7-bf63d47a0f62"
      },
      "outputs": [],
      "source": [
        "categorical_features = ['Gender', 'Ethnicity', 'EducationLevel', 'Smoking',\n",
        "    'FamilyHistoryAlzheimers', 'CardiovascularDisease', 'Diabetes', 'Depression',\n",
        "    'HeadInjury', 'Hypertension', 'MemoryComplaints', 'BehavioralProblems', 'Confusion',\n",
        "    'Disorientation', 'PersonalityChanges', 'DifficultyCompletingTasks', 'Forgetfulness'\n",
        "]"
      ]
    },
    {
      "cell_type": "code",
      "execution_count": null,
      "id": "e0d755b0-1359-4fd0-b81a-1c560f69c0b5",
      "metadata": {
        "id": "e0d755b0-1359-4fd0-b81a-1c560f69c0b5"
      },
      "outputs": [],
      "source": [
        "continuous_features = ['Age', 'BMI', 'AlcoholConsumption', 'PhysicalActivity', 'DietQuality',\n",
        "    'SleepQuality', 'SystolicBP', 'DiastolicBP','CholesterolTotal', 'CholesterolLDL',\n",
        "    'CholesterolHDL','CholesterolTriglycerides', 'MMSE', 'FunctionalAssessment','ADL'\n",
        "]"
      ]
    },
    {
      "cell_type": "code",
      "execution_count": null,
      "id": "bf50d047-10e1-4bce-8b5d-3c407a47ea7d",
      "metadata": {
        "id": "bf50d047-10e1-4bce-8b5d-3c407a47ea7d"
      },
      "outputs": [],
      "source": [
        "class CategoricalPlotter:\n",
        "    def __init__(self, data, target_column):\n",
        "        \"\"\"\n",
        "        Initialize the CategoricalPlotter with the dataset and target column.\n",
        "\n",
        "        Parameters:\n",
        "        - data: pandas DataFrame containing both features and the target column.\n",
        "        - target_column: string, name of the column to be used as the target variable.\n",
        "        \"\"\"\n",
        "        self.data = data\n",
        "        self.target_column = target_column\n",
        "        self.fig, self.axes = plt.subplots(\n",
        "            nrows=6, ncols=3, figsize=(18, 24)\n",
        "        )\n",
        "        self.axes = self.axes.flatten()\n",
        "\n",
        "    def plot_categorical(self, idx, feature):\n",
        "        \"\"\"\n",
        "        Plot a countplot for a given categorical feature against the target column.\n",
        "\n",
        "        Parameters:\n",
        "        - idx: index of the subplot in the grid.\n",
        "        - feature: string, name of the categorical feature to plot.\n",
        "        \"\"\"\n",
        "        ax = self.axes[idx]\n",
        "        sns.countplot(\n",
        "            data=self.data, x=feature, hue=self.target_column, ax=ax, palette='bright', edgecolor='white', linewidth=2\n",
        "        )\n",
        "        ax.set_title(\n",
        "            f'{feature.capitalize()} vs {self.target_column.capitalize()}', fontsize=12, fontweight='bold'\n",
        "        )\n",
        "        ax.set_ylabel('Count', fontsize=10)\n",
        "        ax.set_xlabel(feature.capitalize(), fontsize=10)\n",
        "        ax.grid(True, linestyle='--', alpha=0.7)\n",
        "        ax.set_xticklabels(ax.get_xticklabels(), rotation=45)\n",
        "\n",
        "    def show_categorical_plots(self, categorical_features):\n",
        "        \"\"\"\n",
        "        Generate and display the plots for all categorical features.\n",
        "\n",
        "        Parameters:\n",
        "        - categorical_features: list of strings, names of the categorical features to plot.\n",
        "        \"\"\"\n",
        "        for idx, feature in enumerate(categorical_features):\n",
        "            if idx < len(self.axes):\n",
        "                self.plot_categorical(idx, feature)\n",
        "        for idx in range(len(categorical_features), len(self.axes)):\n",
        "            self.fig.delaxes(self.axes[idx])\n",
        "        plt.tight_layout()\n",
        "        plt.subplots_adjust(hspace=0.4, wspace=0.4)\n",
        "        plt.show()"
      ]
    },
    {
      "cell_type": "code",
      "execution_count": null,
      "id": "fac427a7-475c-4248-8334-8a385c04f7e0",
      "metadata": {
        "id": "fac427a7-475c-4248-8334-8a385c04f7e0"
      },
      "outputs": [],
      "source": [
        "plotter = CategoricalPlotter(df, target_column='Diagnosis')\n",
        "plotter.show_categorical_plots(categorical_features)"
      ]
    },
    {
      "cell_type": "code",
      "execution_count": null,
      "id": "271968c0-3e52-406b-86a1-cd121a2db384",
      "metadata": {
        "id": "271968c0-3e52-406b-86a1-cd121a2db384"
      },
      "outputs": [],
      "source": [
        "class ContinuousPlotter:\n",
        "    def __init__(self, data):\n",
        "        \"\"\"\n",
        "        Initialize the ContinuousPlotter with the dataset.\n",
        "\n",
        "        Parameters:\n",
        "        - data: pandas DataFrame containing continuous features.\n",
        "        \"\"\"\n",
        "        self.data = data\n",
        "        self.fig, self.axes = plt.subplots(\n",
        "            nrows=5, ncols=3, figsize=(18, 24)\n",
        "        )\n",
        "        self.axes = self.axes.flatten()\n",
        "\n",
        "    def plot_distribution(self, idx, feature):\n",
        "        \"\"\"\n",
        "        Plot the distribution for a given continuous feature.\n",
        "\n",
        "        Parameters:\n",
        "        - idx: index of the subplot in the grid.\n",
        "        - feature: string, name of the continuous feature to plot.\n",
        "        \"\"\"\n",
        "        ax = self.axes[idx]\n",
        "        sns.histplot(\n",
        "            self.data[feature], ax=ax, color='blue', bins=30, stat='density'\n",
        "        )\n",
        "        sns.kdeplot(\n",
        "            self.data[feature], ax=ax, linestyle='-', color='red', linewidth=2\n",
        "        )\n",
        "        ax.set_title(\n",
        "            f'Distribution of {feature.capitalize()}', fontsize=12, fontweight='bold'\n",
        "        )\n",
        "        ax.set_ylabel('Frequency', fontsize=10)\n",
        "        ax.set_xlabel(feature.capitalize(), fontsize=10)\n",
        "        ax.grid(True, linestyle='--', alpha=0.7)\n",
        "    def show_distributions(self, continuous_features):\n",
        "        \"\"\"\n",
        "        Generate and display the distribution plots for all continuous features.\n",
        "\n",
        "        Parameters:\n",
        "        - continuous_features: list of strings, names of the continuous features to plot.\n",
        "        \"\"\"\n",
        "        for idx, feature in enumerate(continuous_features):\n",
        "            if idx < len(self.axes):\n",
        "                self.plot_distribution(idx, feature)\n",
        "        for idx in range(len(continuous_features), len(self.axes)):\n",
        "            self.fig.delaxes(self.axes[idx])\n",
        "        plt.tight_layout()\n",
        "        plt.subplots_adjust(hspace=0.4, wspace=0.4)\n",
        "        plt.show()"
      ]
    },
    {
      "cell_type": "code",
      "source": [],
      "metadata": {
        "id": "KSaL3d4UrRAd"
      },
      "id": "KSaL3d4UrRAd",
      "execution_count": null,
      "outputs": []
    },
    {
      "cell_type": "code",
      "execution_count": null,
      "id": "7fcd7102-b2d7-4651-b6de-d66b316c2f1a",
      "metadata": {
        "id": "7fcd7102-b2d7-4651-b6de-d66b316c2f1a"
      },
      "outputs": [],
      "source": [
        "plotter = ContinuousPlotter(df)\n",
        "plotter.show_distributions(continuous_features)"
      ]
    },
    {
      "cell_type": "markdown",
      "id": "453fb63b-5006-418b-9fc1-be73d881be0d",
      "metadata": {
        "id": "453fb63b-5006-418b-9fc1-be73d881be0d"
      },
      "source": [
        "#### Splitting the Data into Train, Validation, and Test Data."
      ]
    },
    {
      "cell_type": "code",
      "execution_count": null,
      "id": "1ef3e63b-9e0c-450c-818e-60d64e3d28da",
      "metadata": {
        "id": "1ef3e63b-9e0c-450c-818e-60d64e3d28da"
      },
      "outputs": [],
      "source": [
        "X = df.drop(columns=['Diagnosis'])\n",
        "Y = df['Diagnosis']"
      ]
    },
    {
      "cell_type": "markdown",
      "id": "59fe7151-25da-47bc-a81e-b2770b4ee2b0",
      "metadata": {
        "id": "59fe7151-25da-47bc-a81e-b2770b4ee2b0"
      },
      "source": [
        "> Splitting into Train and Validation sets."
      ]
    },
    {
      "cell_type": "code",
      "execution_count": null,
      "id": "50556b60-d38a-424f-a99c-dc8efc03bc54",
      "metadata": {
        "id": "50556b60-d38a-424f-a99c-dc8efc03bc54"
      },
      "outputs": [],
      "source": [
        "X_train, X_val, y_train, y_val = train_test_split(\n",
        "    X, Y, test_size=0.3, stratify=Y, shuffle=True, random_state=42\n",
        ")"
      ]
    },
    {
      "cell_type": "markdown",
      "id": "7a1ce7fc-8bb3-4e47-9dca-cd4a65cd99fa",
      "metadata": {
        "id": "7a1ce7fc-8bb3-4e47-9dca-cd4a65cd99fa"
      },
      "source": [
        "> Splitting Validation set into Validation and Test sets."
      ]
    },
    {
      "cell_type": "code",
      "execution_count": null,
      "id": "d5603ad2-d689-4704-a3e6-929c57f4efa4",
      "metadata": {
        "id": "d5603ad2-d689-4704-a3e6-929c57f4efa4"
      },
      "outputs": [],
      "source": [
        "X_val, X_test, y_val, y_test = train_test_split(\n",
        "    X_val, y_val, test_size=0.3, stratify=y_val, shuffle=True, random_state=42\n",
        ")"
      ]
    },
    {
      "cell_type": "markdown",
      "id": "b5b13efe-318b-4085-ac6e-2498286f744e",
      "metadata": {
        "id": "b5b13efe-318b-4085-ac6e-2498286f744e"
      },
      "source": [
        "#### Handling Outlier values."
      ]
    },
    {
      "cell_type": "code",
      "execution_count": null,
      "id": "88117a32-9caf-4a6e-bd10-13db0e31f37e",
      "metadata": {
        "id": "88117a32-9caf-4a6e-bd10-13db0e31f37e"
      },
      "outputs": [],
      "source": [
        "class BoxPlotter:\n",
        "    def __init__(self, X, Y):\n",
        "        self.X_train = X\n",
        "        self.y_train = Y.astype('category')\n",
        "        self.fig, self.axes = plt.subplots(\n",
        "            nrows=5, ncols=3, figsize=(18, 20)\n",
        "        )\n",
        "\n",
        "    def plot_box(self, row, col, x):\n",
        "        ax = self.axes[row, col]\n",
        "        sns.boxplot(\n",
        "            data=self.X_train, x=x, y=self.y_train, ax=ax, palette='bright', linecolor='white', linewidth=2\n",
        "        )\n",
        "        ax.set_title(\n",
        "            f'{x.capitalize()} vs Diagnosis', fontsize=12, fontweight='bold'\n",
        "        )\n",
        "        ax.set_ylabel('Diagnosis', fontsize=10)\n",
        "        ax.set_xlabel(x.capitalize(), fontsize=10)\n",
        "        ax.grid(\n",
        "            True, linestyle='--', alpha=0.7\n",
        "        )\n",
        "        ax.set_xticklabels(ax.get_xticklabels(), rotation=45)\n",
        "\n",
        "    def show_box_plots(self):\n",
        "        for idx in range(len(continuous_features), 15):\n",
        "            self.fig.delaxes(self.axes.flatten()[idx])\n",
        "        plt.tight_layout()\n",
        "        plt.subplots_adjust(hspace=0.4, wspace=0.4)\n",
        "        plt.show()"
      ]
    },
    {
      "cell_type": "code",
      "execution_count": null,
      "id": "1b5fe1e1-7ba9-4dff-a8f7-fd90943a418a",
      "metadata": {
        "id": "1b5fe1e1-7ba9-4dff-a8f7-fd90943a418a"
      },
      "outputs": [],
      "source": [
        "plot = BoxPlotter(X_train, y_train)\n",
        "\n",
        "for idx, col in enumerate(continuous_features):\n",
        "    plot.plot_box(idx // 3, idx % 3, x=col)\n",
        "\n",
        "plot.show_box_plots()"
      ]
    },
    {
      "cell_type": "code",
      "execution_count": null,
      "id": "3313d538-f66f-4ba7-8f20-3c3fb0b4e13f",
      "metadata": {
        "id": "3313d538-f66f-4ba7-8f20-3c3fb0b4e13f"
      },
      "outputs": [],
      "source": [
        "result_df = pd.DataFrame(columns=['Features', 'Category', 'Count'])\n",
        "\n",
        "for col in categorical_features:\n",
        "    value_counts = df[col].value_counts().reset_index()\n",
        "    value_counts.columns = ['Category', 'Count']\n",
        "    value_counts['Features'] = col\n",
        "    result_df = pd.concat([result_df, value_counts], ignore_index=True)\n",
        "\n",
        "grouped_df = result_df.groupby('Features').agg({'Category': list, 'Count': list}).reset_index()\n",
        "grouped_df"
      ]
    },
    {
      "cell_type": "markdown",
      "id": "c99bf9a5-224c-4c6f-af35-7b8175cc18c8",
      "metadata": {
        "id": "c99bf9a5-224c-4c6f-af35-7b8175cc18c8"
      },
      "source": [
        "#### Balancing Training set."
      ]
    },
    {
      "cell_type": "code",
      "execution_count": null,
      "id": "070f62ee-d89d-4fd2-9d05-7f526bf60aa7",
      "metadata": {
        "id": "070f62ee-d89d-4fd2-9d05-7f526bf60aa7"
      },
      "outputs": [],
      "source": [
        "def plot_data_distribution(X, y, title, ax):\n",
        "    sns.countplot(x=y, palette='bright', ax=ax, edgecolor='white', linewidth=2)\n",
        "    for p in ax.patches:\n",
        "        count = p.get_height()\n",
        "        total = len(y)\n",
        "        percentage = 100 * count / total\n",
        "        ax.annotate(\n",
        "            f'{count} ({percentage:.1f}%)',\n",
        "            (p.get_x() + p.get_width() / 2., p.get_height()),\n",
        "            ha='center', va='bottom', fontsize=9, color='black'\n",
        "        )\n",
        "    ax.set_title(title, fontsize=14, fontweight='bold')\n",
        "    ax.set_xlabel('Diagnosis', fontsize=12)\n",
        "    ax.set_ylabel('Count', fontsize=12)\n",
        "    ax.grid(axis='y', linestyle='--', alpha=0.7)"
      ]
    },
    {
      "cell_type": "code",
      "execution_count": null,
      "id": "ab261128-1195-42fa-aeb9-9867bdbaeaac",
      "metadata": {
        "id": "ab261128-1195-42fa-aeb9-9867bdbaeaac"
      },
      "outputs": [],
      "source": [
        "fig, axes = plt.subplots(1, 2, figsize=(12, 6))\n",
        "\n",
        "plot_data_distribution(X_train, y_train, \"Original Data\", axes[0])\n",
        "\n",
        "X_train, y_train = SMOTE(random_state=42).fit_resample(X_train, y_train)\n",
        "\n",
        "plot_data_distribution(X_train, y_train, \"SMOTE Resampled Data\", axes[1])\n",
        "\n",
        "plt.tight_layout()\n",
        "plt.show()"
      ]
    },
    {
      "cell_type": "markdown",
      "id": "cbe841c2-7e55-4169-a5ed-f171d6b12801",
      "metadata": {
        "id": "cbe841c2-7e55-4169-a5ed-f171d6b12801"
      },
      "source": [
        "#### Feature Selection."
      ]
    },
    {
      "cell_type": "markdown",
      "id": "8afac3ad-c2d2-4633-85a0-792a756e6da8",
      "metadata": {
        "id": "8afac3ad-c2d2-4633-85a0-792a756e6da8"
      },
      "source": [
        "> Correlation Analysis."
      ]
    },
    {
      "cell_type": "code",
      "execution_count": null,
      "id": "5cfbe321-6c48-404c-96b1-b1206475b312",
      "metadata": {
        "id": "5cfbe321-6c48-404c-96b1-b1206475b312"
      },
      "outputs": [],
      "source": [
        "train_copy = pd.concat(\n",
        "    [X_train, y_train,], axis=1\n",
        ")\n",
        "\n",
        "corr_matrix = train_copy.corr()\n",
        "\n",
        "plt.figure(figsize=(30, 30))\n",
        "sns.heatmap(\n",
        "    corr_matrix, cmap='Spectral', annot=True, fmt='.2f', linewidths=2, linecolor='black'\n",
        ")\n",
        "plt.title(\n",
        "    'Correlation Matrix', fontsize=20, fontweight='bold'\n",
        ")\n",
        "plt.show()"
      ]
    },
    {
      "cell_type": "markdown",
      "id": "5d18264b-c0f7-4b22-9b65-1b6c49952fb8",
      "metadata": {
        "id": "5d18264b-c0f7-4b22-9b65-1b6c49952fb8"
      },
      "source": [
        "> Mutual Information."
      ]
    },
    {
      "cell_type": "code",
      "execution_count": null,
      "id": "e9bd8a93-8fcd-453d-b899-35b5013210f0",
      "metadata": {
        "id": "e9bd8a93-8fcd-453d-b899-35b5013210f0"
      },
      "outputs": [],
      "source": [
        "feature_zero_count = {}\n",
        "\n",
        "for X, Y in zip([X_train, X_val, X_test], [y_train, y_val, y_test]):\n",
        "    feature_names = X.columns\n",
        "    scores = mutual_info_classif(X, Y)\n",
        "    indices = np.argsort(scores)[::-1]\n",
        "    sorted_scores = scores[indices]\n",
        "    sorted_feature_names = [feature_names[i] for i in indices]\n",
        "\n",
        "    for feature, score in zip(feature_names, scores):\n",
        "        if feature not in feature_zero_count:\n",
        "            feature_zero_count[feature] = 0\n",
        "        if score == 0:\n",
        "            feature_zero_count[feature] += 1\n",
        "\n",
        "    plt.figure(figsize=(10, 5))\n",
        "    plt.bar(range(len(sorted_scores)), sorted_scores)\n",
        "    plt.xticks(\n",
        "        range(len(sorted_scores)), sorted_feature_names, rotation='vertical'\n",
        "    )\n",
        "    plt.title('Mutual Information Scores')\n",
        "    plt.ylabel('Score')\n",
        "    plt.xlabel('Features')\n",
        "    plt.tight_layout()\n",
        "    plt.show()"
      ]
    },
    {
      "cell_type": "code",
      "execution_count": null,
      "id": "86584ecd-8448-45fd-9e42-ea044eed91bd",
      "metadata": {
        "id": "86584ecd-8448-45fd-9e42-ea044eed91bd"
      },
      "outputs": [],
      "source": [
        "features_to_drop = [\n",
        "    feature for feature, zero_count in feature_zero_count.items()\n",
        "    if zero_count >= 1\n",
        "]"
      ]
    },
    {
      "cell_type": "markdown",
      "id": "7706f694-5cdf-449e-a610-3d31836db0a8",
      "metadata": {
        "id": "7706f694-5cdf-449e-a610-3d31836db0a8"
      },
      "source": [
        "> Boruta algorithm."
      ]
    },
    {
      "cell_type": "code",
      "execution_count": null,
      "id": "07480972-16d2-4c0e-bd4b-496a3eb2a610",
      "metadata": {
        "id": "07480972-16d2-4c0e-bd4b-496a3eb2a610"
      },
      "outputs": [],
      "source": [
        "rfr = RandomForestRegressor(n_estimators=100, max_depth=5, random_state=42)"
      ]
    },
    {
      "cell_type": "code",
      "execution_count": null,
      "id": "36b6ec64-b7fa-4def-8424-04e602a0567b",
      "metadata": {
        "id": "36b6ec64-b7fa-4def-8424-04e602a0567b"
      },
      "outputs": [],
      "source": [
        "feat_selector = BorutaPy(\n",
        "    verbose=2, estimator=rfr, n_estimators='auto', max_iter=10\n",
        ")"
      ]
    },
    {
      "cell_type": "code",
      "execution_count": null,
      "id": "7a19bf60-7125-425d-b3cd-fb26c3749cb2",
      "metadata": {
        "id": "7a19bf60-7125-425d-b3cd-fb26c3749cb2"
      },
      "outputs": [],
      "source": [
        "feat_selector.fit(X_train.values, y_train.values)"
      ]
    },
    {
      "cell_type": "code",
      "execution_count": null,
      "id": "db360539-4f0e-40c7-8b4c-fca564669ff7",
      "metadata": {
        "id": "db360539-4f0e-40c7-8b4c-fca564669ff7"
      },
      "outputs": [],
      "source": [
        "cols_to_drop = []\n",
        "\n",
        "print(\"~ Support and Ranking for each feature:\")\n",
        "for i in range(len(feat_selector.support_)):\n",
        "    if feat_selector.support_[i]:\n",
        "        print(\"Passes the test: \", X_train.columns[i], \" - Ranking: \", feat_selector.ranking_[i])\n",
        "    else:\n",
        "        print(\"Doesn't pass the test: \", X_train.columns[i], \" - Ranking: \", feat_selector.ranking_[i])\n",
        "        cols_to_drop.append(X_train.columns[i])"
      ]
    },
    {
      "cell_type": "code",
      "execution_count": null,
      "id": "f53e6a91-c6cc-4c10-90b9-d2f80a6851e6",
      "metadata": {
        "id": "f53e6a91-c6cc-4c10-90b9-d2f80a6851e6"
      },
      "outputs": [],
      "source": [
        "print('~ Features to drop:\\n')\n",
        "print(f'Based on Mutual information scores: {features_to_drop}\\n')\n",
        "print(f'Based on Boruta algorithm: {cols_to_drop}')"
      ]
    },
    {
      "cell_type": "code",
      "execution_count": null,
      "id": "b5c25e27-5de7-4b82-81f9-6d7653174dde",
      "metadata": {
        "id": "b5c25e27-5de7-4b82-81f9-6d7653174dde"
      },
      "outputs": [],
      "source": [
        "X_train.drop(columns=cols_to_drop, inplace=True)\n",
        "X_val.drop(columns=cols_to_drop, inplace=True)\n",
        "X_test.drop(columns=cols_to_drop, inplace=True)"
      ]
    },
    {
      "cell_type": "code",
      "source": [
        "# Assuming 'selected_features' is the set of features chosen by Boruta\n",
        "X_train_selected = X_train\n",
        "\n",
        "svm = SVC()\n",
        "svm.fit(X_train_selected, y_train)"
      ],
      "metadata": {
        "id": "pc2YB4x0lcVj"
      },
      "id": "pc2YB4x0lcVj",
      "execution_count": null,
      "outputs": []
    },
    {
      "cell_type": "code",
      "source": [
        "import shap\n",
        "\n",
        "explainer = shap.KernelExplainer(svm.predict, X_train_selected)\n",
        "\n",
        "shap_values = explainer.shap_values(X_train_selected[:100])\n",
        "\n",
        "shap.summary_plot(shap_values, X_train_selected[:100], feature_names=X_train_selected.columns)\n",
        "\n",
        "shap.force_plot(explainer.expected_value, shap_values[0], X_train_selected.iloc[0], feature_names=X_train_selected.columns)\n"
      ],
      "metadata": {
        "id": "OZMGUdvqnf0w"
      },
      "id": "OZMGUdvqnf0w",
      "execution_count": null,
      "outputs": []
    },
    {
      "cell_type": "markdown",
      "source": [
        "Feature Scaling"
      ],
      "metadata": {
        "id": "Urz7PSmipfts"
      },
      "id": "Urz7PSmipfts"
    },
    {
      "cell_type": "code",
      "execution_count": null,
      "id": "ebb0d886-8eb9-4edf-bad1-772da37d8b3a",
      "metadata": {
        "id": "ebb0d886-8eb9-4edf-bad1-772da37d8b3a"
      },
      "outputs": [],
      "source": [
        "scaler = StandardScaler()\n",
        "\n",
        "scaled_X_train = scaler.fit_transform(X_train)\n",
        "scaled_X_val = scaler.transform(X_val)\n",
        "scaled_X_test = scaler.transform(X_test)"
      ]
    },
    {
      "cell_type": "markdown",
      "id": "247f6486-76ef-4e59-94ee-8ada578e28fd",
      "metadata": {
        "id": "247f6486-76ef-4e59-94ee-8ada578e28fd"
      },
      "source": [
        "#### Feature Extraction."
      ]
    },
    {
      "cell_type": "code",
      "execution_count": null,
      "id": "7e008127-59c2-4386-8336-913fccb821c3",
      "metadata": {
        "id": "7e008127-59c2-4386-8336-913fccb821c3"
      },
      "outputs": [],
      "source": [
        "pca = PCA()\n",
        "pca.fit(scaled_X_train)\n",
        "\n",
        "explained_variance = np.cumsum(pca.explained_variance_ratio_)\n",
        "\n",
        "n_components_95 = np.argmax(explained_variance >= 0.95) + 1\n",
        "\n",
        "print(f\"Number of components for 95% variance: {n_components_95}\")\n",
        "\n",
        "plt.figure(figsize=(8, 5))\n",
        "plt.plot(range(1, len(explained_variance) + 1), explained_variance, marker='o')\n",
        "plt.xlabel('Number of Components')\n",
        "plt.ylabel('Cumulative Explained Variance')\n",
        "plt.title('Explained Variance vs. Number of Components')\n",
        "plt.grid()\n",
        "plt.show()"
      ]
    },
    {
      "cell_type": "code",
      "execution_count": null,
      "id": "3c9320da-1029-4c52-b544-18472e695eae",
      "metadata": {
        "id": "3c9320da-1029-4c52-b544-18472e695eae"
      },
      "outputs": [],
      "source": [
        "pca = PCA(n_components=n_components_95)\n",
        "\n",
        "train_reduced = pca.fit_transform(scaled_X_train)\n",
        "val_reduced = pca.transform(scaled_X_val)\n",
        "test_reduced = pca.transform(scaled_X_test)"
      ]
    },
    {
      "cell_type": "code",
      "execution_count": null,
      "id": "2139b06b-4dc7-4681-b3f1-e85b66fa4eef",
      "metadata": {
        "id": "2139b06b-4dc7-4681-b3f1-e85b66fa4eef"
      },
      "outputs": [],
      "source": [
        "svc = SVC(kernel='rbf', C=1, random_state=42)\n",
        "svc.fit(train_reduced, y_train)\n",
        "\n",
        "y_pred_val = svc.predict(val_reduced)\n",
        "\n",
        "accuracy_val = accuracy_score(y_val, y_pred_val)\n",
        "print(f'Validation Accuracy: {accuracy_val:.4f}')\n",
        "\n",
        "print(\"\\nClassification Report (Validation):\")\n",
        "print(classification_report(y_val, y_pred_val))"
      ]
    },
    {
      "cell_type": "code",
      "execution_count": null,
      "id": "d6f59ffc-9381-42d6-8b57-120523643803",
      "metadata": {
        "id": "d6f59ffc-9381-42d6-8b57-120523643803"
      },
      "outputs": [],
      "source": [
        "params = {\n",
        "    'C': [0.001,0.01, 0.1, 1, 10, 100],\n",
        "    'kernel': ['linear', 'poly', 'rbf', 'sigmoid'],\n",
        "    'degree': [2, 3, 4, 5],\n",
        "    'gamma': ['scale', 'auto']\n",
        "}"
      ]
    },
    {
      "cell_type": "code",
      "execution_count": null,
      "id": "dec897e1-e36e-4620-8d49-cc1321332e33",
      "metadata": {
        "id": "dec897e1-e36e-4620-8d49-cc1321332e33"
      },
      "outputs": [],
      "source": [
        "grid_search = GridSearchCV(\n",
        "    SVC(), params, cv=5, scoring='accuracy'\n",
        ")\n",
        "grid_search.fit(train_reduced, y_train)"
      ]
    },
    {
      "cell_type": "code",
      "execution_count": null,
      "id": "1c390d88-787b-4ea1-83c5-74d941b624da",
      "metadata": {
        "id": "1c390d88-787b-4ea1-83c5-74d941b624da"
      },
      "outputs": [],
      "source": [
        "print(\"Best parameters:\", grid_search.best_params_)"
      ]
    },
    {
      "cell_type": "code",
      "execution_count": null,
      "id": "7be2c948-6529-4c02-a5d8-a9fe97165280",
      "metadata": {
        "id": "7be2c948-6529-4c02-a5d8-a9fe97165280"
      },
      "outputs": [],
      "source": [
        "res = grid_search.predict(val_reduced)"
      ]
    },
    {
      "cell_type": "code",
      "execution_count": null,
      "id": "33c20447-5020-4dbb-abbb-7ea1ff679fd4",
      "metadata": {
        "id": "33c20447-5020-4dbb-abbb-7ea1ff679fd4"
      },
      "outputs": [],
      "source": [
        "print(accuracy_score(y_val, res))"
      ]
    },
    {
      "cell_type": "code",
      "execution_count": null,
      "id": "783bc8c2-68d8-4785-a146-472337d10660",
      "metadata": {
        "id": "783bc8c2-68d8-4785-a146-472337d10660"
      },
      "outputs": [],
      "source": [
        "print(classification_report(y_val, res))"
      ]
    },
    {
      "cell_type": "code",
      "execution_count": null,
      "id": "837ed2d9-b69f-4765-b1d6-9a5ebe5549a6",
      "metadata": {
        "id": "837ed2d9-b69f-4765-b1d6-9a5ebe5549a6"
      },
      "outputs": [],
      "source": [
        "pca = PCA(n_components=2)\n",
        "X_train_2d = pca.fit_transform(train_reduced)\n",
        "\n",
        "best_params = grid_search.best_params_\n",
        "\n",
        "svm = SVC(**best_params)\n",
        "svm.fit(X_train_2d, y_train)\n",
        "\n",
        "x_min, x_max = X_train_2d[:, 0].min() - 1, X_train_2d[:, 0].max() + 1\n",
        "y_min, y_max = X_train_2d[:, 1].min() - 1, X_train_2d[:, 1].max() + 1\n",
        "xx, yy = np.meshgrid(np.arange(x_min, x_max, 0.05),\n",
        "                     np.arange(y_min, y_max, 0.05))\n",
        "\n",
        "Z = svm.predict(np.c_[xx.ravel(), yy.ravel()])\n",
        "Z = Z.reshape(xx.shape)\n",
        "\n",
        "plt.figure(figsize=(10, 6))\n",
        "plt.contourf(xx, yy, Z, alpha=0.8, cmap=plt.cm.coolwarm_r)\n",
        "plt.scatter(X_train_2d[:, 0], X_train_2d[:, 1], c=y_train, cmap=plt.cm.coolwarm_r, edgecolor='black', s=15, linewidths=0.6)\n",
        "plt.xlabel('Principal Component 1')\n",
        "plt.ylabel('Principal Component 2')\n",
        "plt.title('SVM Decision Boundary with Best Parameters')\n",
        "plt.show()"
      ]
    },
    {
      "cell_type": "code",
      "execution_count": null,
      "id": "1356931b-69f3-44b0-9579-a6dc6da3ba4f",
      "metadata": {
        "id": "1356931b-69f3-44b0-9579-a6dc6da3ba4f"
      },
      "outputs": [],
      "source": [
        "import shap\n",
        "\n",
        "explainer = shap.KernelExplainer(svm.predict, X_train_2d)\n",
        "# limting to 100 for faster computation\n",
        "shap_values = explainer.shap_values(X_train_2d[:100])\n",
        "\n",
        "shap.summary_plot(shap_values, X_train_2d[:100])\n",
        "\n",
        "shap.force_plot(explainer.expected_value, shap_values[0], X_train_2d[0])"
      ]
    },
    {
      "cell_type": "code",
      "source": [],
      "metadata": {
        "id": "pM5CRVsUnpcr"
      },
      "id": "pM5CRVsUnpcr",
      "execution_count": null,
      "outputs": []
    },
    {
      "cell_type": "code",
      "source": [],
      "metadata": {
        "id": "p5597iaHodg0"
      },
      "id": "p5597iaHodg0",
      "execution_count": null,
      "outputs": []
    },
    {
      "cell_type": "code",
      "source": [],
      "metadata": {
        "id": "vEOWaT_2oqQO"
      },
      "id": "vEOWaT_2oqQO",
      "execution_count": null,
      "outputs": []
    }
  ],
  "metadata": {
    "kernelspec": {
      "display_name": "ml_proj",
      "language": "python",
      "name": "ml_proj"
    },
    "language_info": {
      "codemirror_mode": {
        "name": "ipython",
        "version": 3
      },
      "file_extension": ".py",
      "mimetype": "text/x-python",
      "name": "python",
      "nbconvert_exporter": "python",
      "pygments_lexer": "ipython3",
      "version": "3.11.4"
    },
    "colab": {
      "provenance": []
    }
  },
  "nbformat": 4,
  "nbformat_minor": 5
}